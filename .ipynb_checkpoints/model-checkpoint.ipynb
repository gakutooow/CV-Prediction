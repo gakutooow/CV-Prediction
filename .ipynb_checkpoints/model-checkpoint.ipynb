{
 "cells": [
  {
   "cell_type": "code",
   "execution_count": 240,
   "metadata": {},
   "outputs": [],
   "source": [
    "import pandas as pd\n",
    "import numpy as np\n",
    "\n",
    "import matplotlib.pyplot as plt\n",
    "import seaborn as sns\n",
    "%matplotlib inline\n",
    "from collections import Counter\n",
    "from sklearn.ensemble import RandomForestClassifier\n",
    "\n",
    "pd.set_option(\"display.max_columns\", 200)"
   ]
  },
  {
   "cell_type": "code",
   "execution_count": 194,
   "metadata": {},
   "outputs": [],
   "source": [
    "# df_train = pd.read_csv(\"../data/feature/random_under_sampling/df_train.csv\",index_col=0)\n",
    "# df_test = pd.read_csv(\"../data/feature/random_under_sampling/df_test.csv\",index_col=0)"
   ]
  },
  {
   "cell_type": "code",
   "execution_count": 274,
   "metadata": {},
   "outputs": [],
   "source": [
    "df_train = pd.read_csv(\"../data/feature/random_under_sampling/new_df_train.csv\",index_col=0)\n",
    "df_test = pd.read_csv(\"../data/feature/random_under_sampling/new_df_test.csv\",index_col=0)"
   ]
  },
  {
   "cell_type": "code",
   "execution_count": 275,
   "metadata": {},
   "outputs": [],
   "source": [
    "def min_max(x, axis=None):\n",
    "    min = x.min(axis=axis, keepdims=True)\n",
    "    max = x.max(axis=axis, keepdims=True)\n",
    "    if max == 0 and min == 0:\n",
    "        return x\n",
    "    else:\n",
    "        result = (x-min)/(max-min)\n",
    "        return result"
   ]
  },
  {
   "cell_type": "code",
   "execution_count": 276,
   "metadata": {},
   "outputs": [],
   "source": [
    "df_train[\"num_of_pages\"] = min_max(df_train[\"num_of_pages\"].values)\n",
    "df_train[\"num_of_move_block\"] = min_max(df_train[\"num_of_move_block\"].values)\n",
    "df_train[\"num_keyword\"] = min_max(df_train[\"num_of_move_block\"].values)\n",
    "\n",
    "df_train['num_go_block_/simulation/'] = min_max(df_train[\"num_go_block_/simulation/\"].values)\n",
    "df_train[\"num_go_block_CV\"] = min_max(df_train[\"num_go_block_CV\"].values)\n",
    "df_train[\"num_go_block_about\"] = min_max(df_train[\"num_go_block_about\"].values)\n",
    "df_train[\"num_go_block_business\"] = min_max(df_train[\"num_go_block_business\"].values)\n",
    "df_train[\"num_go_block_catalog\"] = min_max(df_train[\"num_go_block_catalog\"].values)\n",
    "df_train[\"num_go_block_cms\"] = min_max(df_train[\"num_go_block_cms\"].values)\n",
    "df_train[\"num_go_block_cus_main\"] = min_max(df_train[\"num_go_block_cus_main\"].values)\n",
    "df_train[\"num_go_block_detect_cate\"] = min_max(df_train[\"num_go_block_detect_cate\"].values)\n",
    "df_train[\"num_go_block_digitaldesk\"] = min_max(df_train[\"num_go_block_digitaldesk\"].values)\n",
    "df_train[\"num_go_block_faq\"] = min_max(df_train[\"num_go_block_faq\"].values)\n",
    "df_train[\"num_go_block_inax\"] = min_max(df_train[\"num_go_block_inax\"].values)\n",
    "df_train[\"num_go_block_inquiry\"] = min_max(df_train[\"num_go_block_inquiry\"].values)\n",
    "df_train[\"num_go_block_kento\"] = min_max(df_train[\"num_go_block_kento\"].values)\n",
    "df_train[\"num_go_block_kotsu\"] = min_max(df_train[\"num_go_block_kotsu\"].values)\n",
    "df_train[\"num_go_block_lineup\"] = min_max(df_train[\"num_go_block_lineup\"].values)\n",
    "df_train[\"num_go_block_long_support\"] = min_max(df_train[\"num_go_block_long_support\"].values)\n",
    "df_train[\"num_go_block_madeby\"] = min_max(df_train[\"num_go_block_madeby\"].values)\n",
    "df_train[\"num_go_block_main\"] = min_max(df_train[\"num_go_block_main\"].values)\n",
    "df_train[\"num_go_block_others\"] = min_max(df_train[\"num_go_block_others\"].values)\n",
    "df_train[\"num_go_block_otoku\"] = min_max(df_train[\"num_go_block_otoku\"].values)\n",
    "df_train[\"num_go_block_ownerreg\"] = min_max(df_train[\"num_go_block_ownerreg\"].values)\n",
    "df_train[\"num_go_block_owners\"] = min_max(df_train[\"num_go_block_owners\"].values)\n",
    "df_train[\"num_go_block_policy_etc\"] = min_max(df_train[\"num_go_block_policy_etc\"].values)\n",
    "df_train[\"num_go_block_purpose\"] = min_max(df_train[\"num_go_block_purpose\"].values)\n",
    "df_train[\"num_go_block_qa\"] = min_max(df_train[\"num_go_block_qa\"].values)\n",
    "df_train[\"num_go_block_rakuraku\"] = min_max(df_train[\"num_go_block_rakuraku\"].values)\n",
    "df_train[\"num_go_block_rechent\"] = min_max(df_train[\"num_go_block_rechent\"].values)\n",
    "df_train[\"num_go_block_reform_con\"] = min_max(df_train[\"num_go_block_reform_con\"].values)\n",
    "df_train[\"num_go_block_reform_main\"] = min_max(df_train[\"num_go_block_reform_main\"].values)\n",
    "df_train[\"num_go_block_reform_part\"] = min_max(df_train[\"num_go_block_reform_part\"].values)\n",
    "df_train[\"num_go_block_search\"] = min_max(df_train[\"num_go_block_search\"].values)\n",
    "df_train[\"num_go_block_seekreform\"] = min_max(df_train[\"num_go_block_seekreform\"].values)\n",
    "df_train[\"num_go_block_shinnikkei\"] = min_max(df_train[\"num_go_block_shinnikkei\"].values)\n",
    "df_train[\"num_go_block_show_fair\"] = min_max(df_train[\"num_go_block_show_fair\"].values)\n",
    "df_train[\"num_go_block_show_main\"] = min_max(df_train[\"num_go_block_show_main\"].values)\n",
    "df_train[\"num_go_block_tostem\"] = min_max(df_train[\"num_go_block_tostem\"].values)\n",
    "df_train[\"num_go_block_twenty\"] = min_max(df_train[\"num_go_block_twenty\"].values)\n",
    "df_train[\"num_go_block_warning\"] = min_max(df_train[\"num_go_block_warning\"].values)\n",
    "df_train[\"num_go_block_web_consult\"] = min_max(df_train[\"num_go_block_web_consult\"].values)\n",
    "df_train[\"num_go_block_yougo\"] = min_max(df_train[\"num_go_block_yougo\"].values)\n",
    "\n",
    "\n",
    "df_test[\"num_of_pages\"] = min_max(df_test[\"num_of_pages\"].values)\n",
    "df_test[\"num_of_move_block\"] = min_max(df_test[\"num_of_move_block\"].values)\n",
    "df_test[\"num_keyword\"] = min_max(df_test[\"num_of_move_block\"].values)\n",
    "\n",
    "df_test['num_go_block_/simulation/'] = min_max(df_test[\"num_go_block_/simulation/\"].values)\n",
    "df_test[\"num_go_block_CV\"] = min_max(df_test[\"num_go_block_CV\"].values)\n",
    "df_test[\"num_go_block_about\"] = min_max(df_test[\"num_go_block_about\"].values)\n",
    "df_test[\"num_go_block_business\"] = min_max(df_test[\"num_go_block_business\"].values)\n",
    "df_test[\"num_go_block_catalog\"] = min_max(df_test[\"num_go_block_catalog\"].values)\n",
    "df_test[\"num_go_block_cms\"] = min_max(df_test[\"num_go_block_cms\"].values)\n",
    "df_test[\"num_go_block_cus_main\"] = min_max(df_test[\"num_go_block_cus_main\"].values)\n",
    "df_test[\"num_go_block_detect_cate\"] = min_max(df_test[\"num_go_block_detect_cate\"].values)\n",
    "df_test[\"num_go_block_digitaldesk\"] = min_max(df_test[\"num_go_block_digitaldesk\"].values)\n",
    "df_test[\"num_go_block_faq\"] = min_max(df_test[\"num_go_block_faq\"].values)\n",
    "df_test[\"num_go_block_inax\"] = min_max(df_test[\"num_go_block_inax\"].values)\n",
    "df_test[\"num_go_block_inquiry\"] = min_max(df_test[\"num_go_block_inquiry\"].values)\n",
    "df_test[\"num_go_block_kento\"] = min_max(df_test[\"num_go_block_kento\"].values)\n",
    "df_test[\"num_go_block_kotsu\"] = min_max(df_test[\"num_go_block_kotsu\"].values)\n",
    "df_test[\"num_go_block_lineup\"] = min_max(df_test[\"num_go_block_lineup\"].values)\n",
    "df_test[\"num_go_block_long_support\"] = min_max(df_test[\"num_go_block_long_support\"].values)\n",
    "df_test[\"num_go_block_madeby\"] = min_max(df_test[\"num_go_block_madeby\"].values)\n",
    "df_test[\"num_go_block_main\"] = min_max(df_test[\"num_go_block_main\"].values)\n",
    "df_test[\"num_go_block_others\"] = min_max(df_test[\"num_go_block_others\"].values)\n",
    "df_test[\"num_go_block_otoku\"] = min_max(df_test[\"num_go_block_otoku\"].values)\n",
    "df_test[\"num_go_block_ownerreg\"] = min_max(df_test[\"num_go_block_ownerreg\"].values)\n",
    "df_test[\"num_go_block_owners\"] = min_max(df_test[\"num_go_block_owners\"].values)\n",
    "df_test[\"num_go_block_policy_etc\"] = min_max(df_test[\"num_go_block_policy_etc\"].values)\n",
    "df_test[\"num_go_block_purpose\"] = min_max(df_test[\"num_go_block_purpose\"].values)\n",
    "df_test[\"num_go_block_qa\"] = min_max(df_test[\"num_go_block_qa\"].values)\n",
    "df_test[\"num_go_block_rakuraku\"] = min_max(df_test[\"num_go_block_rakuraku\"].values)\n",
    "df_test[\"num_go_block_rechent\"] = min_max(df_test[\"num_go_block_rechent\"].values)\n",
    "df_test[\"num_go_block_reform_con\"] = min_max(df_test[\"num_go_block_reform_con\"].values)\n",
    "df_test[\"num_go_block_reform_main\"] = min_max(df_test[\"num_go_block_reform_main\"].values)\n",
    "df_test[\"num_go_block_reform_part\"] = min_max(df_test[\"num_go_block_reform_part\"].values)\n",
    "df_test[\"num_go_block_search\"] = min_max(df_test[\"num_go_block_search\"].values)\n",
    "df_test[\"num_go_block_seekreform\"] = min_max(df_test[\"num_go_block_seekreform\"].values)\n",
    "df_test[\"num_go_block_shinnikkei\"] = min_max(df_test[\"num_go_block_shinnikkei\"].values)\n",
    "df_test[\"num_go_block_show_fair\"] = min_max(df_test[\"num_go_block_show_fair\"].values)\n",
    "df_test[\"num_go_block_show_main\"] = min_max(df_test[\"num_go_block_show_main\"].values)\n",
    "df_test[\"num_go_block_tostem\"] = min_max(df_test[\"num_go_block_tostem\"].values)\n",
    "df_test[\"num_go_block_twenty\"] = min_max(df_test[\"num_go_block_twenty\"].values)\n",
    "df_test[\"num_go_block_warning\"] = min_max(df_test[\"num_go_block_warning\"].values)\n",
    "df_test[\"num_go_block_web_consult\"] = min_max(df_test[\"num_go_block_web_consult\"].values)\n",
    "df_test[\"num_go_block_yougo\"] = min_max(df_test[\"num_go_block_yougo\"].values)\n",
    "\n"
   ]
  },
  {
   "cell_type": "code",
   "execution_count": 278,
   "metadata": {},
   "outputs": [
    {
     "name": "stdout",
     "output_type": "stream",
     "text": [
      "(12720, 195)\n",
      "(43177, 195)\n"
     ]
    }
   ],
   "source": [
    "print(df_train.shape)\n",
    "print(df_test.shape)"
   ]
  },
  {
   "cell_type": "code",
   "execution_count": 279,
   "metadata": {},
   "outputs": [],
   "source": [
    "y_train = df_train[\"cv_flg\"].values\n",
    "X_train = df_train.drop([\"session_id\",\"cv_flg\"],axis=1).values"
   ]
  },
  {
   "cell_type": "code",
   "execution_count": 280,
   "metadata": {},
   "outputs": [],
   "source": [
    "y_test = df_test[\"cv_flg\"].values\n",
    "X_test = df_test.drop([\"session_id\",\"cv_flg\"],axis=1).values"
   ]
  },
  {
   "cell_type": "code",
   "execution_count": 281,
   "metadata": {},
   "outputs": [],
   "source": [
    "from sklearn.model_selection import ParameterGrid\n",
    "from sklearn.model_selection import StratifiedKFold,cross_validate\n",
    "from sklearn.metrics import accuracy_score\n",
    "from sklearn.metrics import precision_score\n",
    "from sklearn.metrics import recall_score"
   ]
  },
  {
   "cell_type": "code",
   "execution_count": null,
   "metadata": {},
   "outputs": [
    {
     "name": "stdout",
     "output_type": "stream",
     "text": [
      "{'criterion': 'entropy', 'max_depth': 2, 'max_features': 'auto', 'min_samples_leaf': 2, 'min_samples_split': 2, 'n_estimators': 10, 'random_state': 0}\n",
      "accuracy: 0.6138364779874214\n",
      "{'criterion': 'entropy', 'max_depth': 2, 'max_features': 'auto', 'min_samples_leaf': 2, 'min_samples_split': 2, 'n_estimators': 50, 'random_state': 0}\n",
      "accuracy: 0.6237421383647799\n",
      "{'criterion': 'entropy', 'max_depth': 2, 'max_features': 'auto', 'min_samples_leaf': 2, 'min_samples_split': 2, 'n_estimators': 100, 'random_state': 0}\n",
      "accuracy: 0.6211477987421384\n",
      "{'criterion': 'entropy', 'max_depth': 2, 'max_features': 'auto', 'min_samples_leaf': 2, 'min_samples_split': 2, 'n_estimators': 150, 'random_state': 0}\n",
      "accuracy: 0.6194182389937107\n",
      "{'criterion': 'entropy', 'max_depth': 2, 'max_features': 'auto', 'min_samples_leaf': 2, 'min_samples_split': 5, 'n_estimators': 10, 'random_state': 0}\n",
      "accuracy: 0.6138364779874214\n",
      "{'criterion': 'entropy', 'max_depth': 2, 'max_features': 'auto', 'min_samples_leaf': 2, 'min_samples_split': 5, 'n_estimators': 50, 'random_state': 0}\n",
      "accuracy: 0.6237421383647799\n",
      "{'criterion': 'entropy', 'max_depth': 2, 'max_features': 'auto', 'min_samples_leaf': 2, 'min_samples_split': 5, 'n_estimators': 100, 'random_state': 0}\n",
      "accuracy: 0.6211477987421384\n",
      "{'criterion': 'entropy', 'max_depth': 2, 'max_features': 'auto', 'min_samples_leaf': 2, 'min_samples_split': 5, 'n_estimators': 150, 'random_state': 0}\n",
      "accuracy: 0.6194182389937107\n",
      "{'criterion': 'entropy', 'max_depth': 2, 'max_features': 'auto', 'min_samples_leaf': 2, 'min_samples_split': 10, 'n_estimators': 10, 'random_state': 0}\n",
      "accuracy: 0.6138364779874214\n",
      "{'criterion': 'entropy', 'max_depth': 2, 'max_features': 'auto', 'min_samples_leaf': 2, 'min_samples_split': 10, 'n_estimators': 50, 'random_state': 0}\n",
      "accuracy: 0.6237421383647799\n",
      "{'criterion': 'entropy', 'max_depth': 2, 'max_features': 'auto', 'min_samples_leaf': 2, 'min_samples_split': 10, 'n_estimators': 100, 'random_state': 0}\n",
      "accuracy: 0.6211477987421384\n",
      "{'criterion': 'entropy', 'max_depth': 2, 'max_features': 'auto', 'min_samples_leaf': 2, 'min_samples_split': 10, 'n_estimators': 150, 'random_state': 0}\n",
      "accuracy: 0.6194182389937107\n",
      "{'criterion': 'entropy', 'max_depth': 2, 'max_features': 'auto', 'min_samples_leaf': 5, 'min_samples_split': 2, 'n_estimators': 10, 'random_state': 0}\n",
      "accuracy: 0.6139150943396225\n",
      "{'criterion': 'entropy', 'max_depth': 2, 'max_features': 'auto', 'min_samples_leaf': 5, 'min_samples_split': 2, 'n_estimators': 50, 'random_state': 0}\n",
      "accuracy: 0.6230345911949686\n",
      "{'criterion': 'entropy', 'max_depth': 2, 'max_features': 'auto', 'min_samples_leaf': 5, 'min_samples_split': 2, 'n_estimators': 100, 'random_state': 0}\n",
      "accuracy: 0.6212264150943396\n",
      "{'criterion': 'entropy', 'max_depth': 2, 'max_features': 'auto', 'min_samples_leaf': 5, 'min_samples_split': 2, 'n_estimators': 150, 'random_state': 0}\n",
      "accuracy: 0.6193396226415093\n",
      "{'criterion': 'entropy', 'max_depth': 2, 'max_features': 'auto', 'min_samples_leaf': 5, 'min_samples_split': 5, 'n_estimators': 10, 'random_state': 0}\n",
      "accuracy: 0.6139150943396225\n",
      "{'criterion': 'entropy', 'max_depth': 2, 'max_features': 'auto', 'min_samples_leaf': 5, 'min_samples_split': 5, 'n_estimators': 50, 'random_state': 0}\n",
      "accuracy: 0.6230345911949686\n",
      "{'criterion': 'entropy', 'max_depth': 2, 'max_features': 'auto', 'min_samples_leaf': 5, 'min_samples_split': 5, 'n_estimators': 100, 'random_state': 0}\n",
      "accuracy: 0.6212264150943396\n",
      "{'criterion': 'entropy', 'max_depth': 2, 'max_features': 'auto', 'min_samples_leaf': 5, 'min_samples_split': 5, 'n_estimators': 150, 'random_state': 0}\n",
      "accuracy: 0.6193396226415093\n",
      "{'criterion': 'entropy', 'max_depth': 2, 'max_features': 'auto', 'min_samples_leaf': 5, 'min_samples_split': 10, 'n_estimators': 10, 'random_state': 0}\n",
      "accuracy: 0.6139150943396225\n",
      "{'criterion': 'entropy', 'max_depth': 2, 'max_features': 'auto', 'min_samples_leaf': 5, 'min_samples_split': 10, 'n_estimators': 50, 'random_state': 0}\n",
      "accuracy: 0.6230345911949686\n",
      "{'criterion': 'entropy', 'max_depth': 2, 'max_features': 'auto', 'min_samples_leaf': 5, 'min_samples_split': 10, 'n_estimators': 100, 'random_state': 0}\n",
      "accuracy: 0.6212264150943396\n",
      "{'criterion': 'entropy', 'max_depth': 2, 'max_features': 'auto', 'min_samples_leaf': 5, 'min_samples_split': 10, 'n_estimators': 150, 'random_state': 0}\n",
      "accuracy: 0.6193396226415093\n",
      "{'criterion': 'entropy', 'max_depth': 2, 'max_features': 'auto', 'min_samples_leaf': 10, 'min_samples_split': 2, 'n_estimators': 10, 'random_state': 0}\n",
      "accuracy: 0.6132075471698113\n",
      "{'criterion': 'entropy', 'max_depth': 2, 'max_features': 'auto', 'min_samples_leaf': 10, 'min_samples_split': 2, 'n_estimators': 50, 'random_state': 0}\n",
      "accuracy: 0.6233490566037736\n",
      "{'criterion': 'entropy', 'max_depth': 2, 'max_features': 'auto', 'min_samples_leaf': 10, 'min_samples_split': 2, 'n_estimators': 100, 'random_state': 0}\n",
      "accuracy: 0.6212264150943396\n",
      "{'criterion': 'entropy', 'max_depth': 2, 'max_features': 'auto', 'min_samples_leaf': 10, 'min_samples_split': 2, 'n_estimators': 150, 'random_state': 0}\n",
      "accuracy: 0.6194968553459119\n",
      "{'criterion': 'entropy', 'max_depth': 2, 'max_features': 'auto', 'min_samples_leaf': 10, 'min_samples_split': 5, 'n_estimators': 10, 'random_state': 0}\n",
      "accuracy: 0.6132075471698113\n",
      "{'criterion': 'entropy', 'max_depth': 2, 'max_features': 'auto', 'min_samples_leaf': 10, 'min_samples_split': 5, 'n_estimators': 50, 'random_state': 0}\n",
      "accuracy: 0.6233490566037736\n",
      "{'criterion': 'entropy', 'max_depth': 2, 'max_features': 'auto', 'min_samples_leaf': 10, 'min_samples_split': 5, 'n_estimators': 100, 'random_state': 0}\n",
      "accuracy: 0.6212264150943396\n",
      "{'criterion': 'entropy', 'max_depth': 2, 'max_features': 'auto', 'min_samples_leaf': 10, 'min_samples_split': 5, 'n_estimators': 150, 'random_state': 0}\n",
      "accuracy: 0.6194968553459119\n",
      "{'criterion': 'entropy', 'max_depth': 2, 'max_features': 'auto', 'min_samples_leaf': 10, 'min_samples_split': 10, 'n_estimators': 10, 'random_state': 0}\n",
      "accuracy: 0.6132075471698113\n",
      "{'criterion': 'entropy', 'max_depth': 2, 'max_features': 'auto', 'min_samples_leaf': 10, 'min_samples_split': 10, 'n_estimators': 50, 'random_state': 0}\n",
      "accuracy: 0.6233490566037736\n",
      "{'criterion': 'entropy', 'max_depth': 2, 'max_features': 'auto', 'min_samples_leaf': 10, 'min_samples_split': 10, 'n_estimators': 100, 'random_state': 0}\n",
      "accuracy: 0.6212264150943396\n",
      "{'criterion': 'entropy', 'max_depth': 2, 'max_features': 'auto', 'min_samples_leaf': 10, 'min_samples_split': 10, 'n_estimators': 150, 'random_state': 0}\n",
      "accuracy: 0.6194968553459119\n",
      "{'criterion': 'entropy', 'max_depth': 5, 'max_features': 'auto', 'min_samples_leaf': 2, 'min_samples_split': 2, 'n_estimators': 10, 'random_state': 0}\n",
      "accuracy: 0.642374213836478\n",
      "{'criterion': 'entropy', 'max_depth': 5, 'max_features': 'auto', 'min_samples_leaf': 2, 'min_samples_split': 2, 'n_estimators': 50, 'random_state': 0}\n",
      "accuracy: 0.6488993710691824\n",
      "{'criterion': 'entropy', 'max_depth': 5, 'max_features': 'auto', 'min_samples_leaf': 2, 'min_samples_split': 2, 'n_estimators': 100, 'random_state': 0}\n",
      "accuracy: 0.6497641509433962\n",
      "{'criterion': 'entropy', 'max_depth': 5, 'max_features': 'auto', 'min_samples_leaf': 2, 'min_samples_split': 2, 'n_estimators': 150, 'random_state': 0}\n",
      "accuracy: 0.6484276729559749\n",
      "{'criterion': 'entropy', 'max_depth': 5, 'max_features': 'auto', 'min_samples_leaf': 2, 'min_samples_split': 5, 'n_estimators': 10, 'random_state': 0}\n",
      "accuracy: 0.6414308176100629\n",
      "{'criterion': 'entropy', 'max_depth': 5, 'max_features': 'auto', 'min_samples_leaf': 2, 'min_samples_split': 5, 'n_estimators': 50, 'random_state': 0}\n",
      "accuracy: 0.6488993710691824\n",
      "{'criterion': 'entropy', 'max_depth': 5, 'max_features': 'auto', 'min_samples_leaf': 2, 'min_samples_split': 5, 'n_estimators': 100, 'random_state': 0}\n",
      "accuracy: 0.6474056603773586\n",
      "{'criterion': 'entropy', 'max_depth': 5, 'max_features': 'auto', 'min_samples_leaf': 2, 'min_samples_split': 5, 'n_estimators': 150, 'random_state': 0}\n",
      "accuracy: 0.6478773584905662\n",
      "{'criterion': 'entropy', 'max_depth': 5, 'max_features': 'auto', 'min_samples_leaf': 2, 'min_samples_split': 10, 'n_estimators': 10, 'random_state': 0}\n",
      "accuracy: 0.640251572327044\n",
      "{'criterion': 'entropy', 'max_depth': 5, 'max_features': 'auto', 'min_samples_leaf': 2, 'min_samples_split': 10, 'n_estimators': 50, 'random_state': 0}\n",
      "accuracy: 0.6474056603773585\n",
      "{'criterion': 'entropy', 'max_depth': 5, 'max_features': 'auto', 'min_samples_leaf': 2, 'min_samples_split': 10, 'n_estimators': 100, 'random_state': 0}\n",
      "accuracy: 0.6478773584905662\n",
      "{'criterion': 'entropy', 'max_depth': 5, 'max_features': 'auto', 'min_samples_leaf': 2, 'min_samples_split': 10, 'n_estimators': 150, 'random_state': 0}\n",
      "accuracy: 0.6471698113207547\n",
      "{'criterion': 'entropy', 'max_depth': 5, 'max_features': 'auto', 'min_samples_leaf': 5, 'min_samples_split': 2, 'n_estimators': 10, 'random_state': 0}\n",
      "accuracy: 0.6396226415094339\n",
      "{'criterion': 'entropy', 'max_depth': 5, 'max_features': 'auto', 'min_samples_leaf': 5, 'min_samples_split': 2, 'n_estimators': 50, 'random_state': 0}\n",
      "accuracy: 0.647248427672956\n",
      "{'criterion': 'entropy', 'max_depth': 5, 'max_features': 'auto', 'min_samples_leaf': 5, 'min_samples_split': 2, 'n_estimators': 100, 'random_state': 0}\n",
      "accuracy: 0.6466981132075472\n",
      "{'criterion': 'entropy', 'max_depth': 5, 'max_features': 'auto', 'min_samples_leaf': 5, 'min_samples_split': 2, 'n_estimators': 150, 'random_state': 0}\n",
      "accuracy: 0.6476415094339623\n",
      "{'criterion': 'entropy', 'max_depth': 5, 'max_features': 'auto', 'min_samples_leaf': 5, 'min_samples_split': 5, 'n_estimators': 10, 'random_state': 0}\n",
      "accuracy: 0.6396226415094339\n",
      "{'criterion': 'entropy', 'max_depth': 5, 'max_features': 'auto', 'min_samples_leaf': 5, 'min_samples_split': 5, 'n_estimators': 50, 'random_state': 0}\n",
      "accuracy: 0.647248427672956\n",
      "{'criterion': 'entropy', 'max_depth': 5, 'max_features': 'auto', 'min_samples_leaf': 5, 'min_samples_split': 5, 'n_estimators': 100, 'random_state': 0}\n",
      "accuracy: 0.6466981132075472\n",
      "{'criterion': 'entropy', 'max_depth': 5, 'max_features': 'auto', 'min_samples_leaf': 5, 'min_samples_split': 5, 'n_estimators': 150, 'random_state': 0}\n",
      "accuracy: 0.6476415094339623\n",
      "{'criterion': 'entropy', 'max_depth': 5, 'max_features': 'auto', 'min_samples_leaf': 5, 'min_samples_split': 10, 'n_estimators': 10, 'random_state': 0}\n",
      "accuracy: 0.6396226415094339\n",
      "{'criterion': 'entropy', 'max_depth': 5, 'max_features': 'auto', 'min_samples_leaf': 5, 'min_samples_split': 10, 'n_estimators': 50, 'random_state': 0}\n",
      "accuracy: 0.647248427672956\n",
      "{'criterion': 'entropy', 'max_depth': 5, 'max_features': 'auto', 'min_samples_leaf': 5, 'min_samples_split': 10, 'n_estimators': 100, 'random_state': 0}\n",
      "accuracy: 0.6466981132075472\n",
      "{'criterion': 'entropy', 'max_depth': 5, 'max_features': 'auto', 'min_samples_leaf': 5, 'min_samples_split': 10, 'n_estimators': 150, 'random_state': 0}\n",
      "accuracy: 0.6476415094339623\n",
      "{'criterion': 'entropy', 'max_depth': 5, 'max_features': 'auto', 'min_samples_leaf': 10, 'min_samples_split': 2, 'n_estimators': 10, 'random_state': 0}\n",
      "accuracy: 0.6342767295597485\n",
      "{'criterion': 'entropy', 'max_depth': 5, 'max_features': 'auto', 'min_samples_leaf': 10, 'min_samples_split': 2, 'n_estimators': 50, 'random_state': 0}\n",
      "accuracy: 0.6473270440251573\n",
      "{'criterion': 'entropy', 'max_depth': 5, 'max_features': 'auto', 'min_samples_leaf': 10, 'min_samples_split': 2, 'n_estimators': 100, 'random_state': 0}\n",
      "accuracy: 0.648191823899371\n",
      "{'criterion': 'entropy', 'max_depth': 5, 'max_features': 'auto', 'min_samples_leaf': 10, 'min_samples_split': 2, 'n_estimators': 150, 'random_state': 0}\n"
     ]
    }
   ],
   "source": [
    "params = {\n",
    "    'n_estimators': [10,50,100,150],\n",
    "    'max_depth': [2,5,10,15],\n",
    "    'min_samples_split':[2,5,10],\n",
    "    'min_samples_leaf':[2,5,10],\n",
    "    'max_features':[\"auto\"],\n",
    "    'random_state':[0],\n",
    "    'criterion':['entropy'],\n",
    "}\n",
    "best_score = 0\n",
    "best_params = {}\n",
    "for param in ParameterGrid(params):\n",
    "    print(param)\n",
    "    model = RandomForestClassifier(**param)\n",
    "\n",
    "    skf = StratifiedKFold(n_splits=5, shuffle=True, random_state=42)\n",
    "\n",
    "    score_funcs = [\n",
    "        'accuracy',\n",
    "        'precision',\n",
    "        'recall',\n",
    "        'f1',\n",
    "    ]\n",
    "\n",
    "    scores = cross_validate(model, X_train, y_train, cv=skf, scoring=score_funcs)\n",
    "    \n",
    "    accuracy = scores['test_accuracy'].mean()\n",
    "    \n",
    "    if accuracy > best_score :\n",
    "        best_score = accuracy\n",
    "        best_params = param\n",
    "    \n",
    "    print('accuracy:', scores['test_accuracy'].mean())"
   ]
  },
  {
   "cell_type": "code",
   "execution_count": 283,
   "metadata": {},
   "outputs": [
    {
     "name": "stderr",
     "output_type": "stream",
     "text": [
      "/Users/labosano/anaconda3/envs/lixil/lib/python3.6/site-packages/sklearn/utils/deprecation.py:125: FutureWarning: You are accessing a training score ('train_accuracy'), which will not be available by default any more in 0.21. If you need training scores, please set return_train_score=True\n",
      "  warnings.warn(*warn_args, **warn_kwargs)\n",
      "/Users/labosano/anaconda3/envs/lixil/lib/python3.6/site-packages/sklearn/utils/deprecation.py:125: FutureWarning: You are accessing a training score ('train_precision'), which will not be available by default any more in 0.21. If you need training scores, please set return_train_score=True\n",
      "  warnings.warn(*warn_args, **warn_kwargs)\n",
      "/Users/labosano/anaconda3/envs/lixil/lib/python3.6/site-packages/sklearn/utils/deprecation.py:125: FutureWarning: You are accessing a training score ('train_recall'), which will not be available by default any more in 0.21. If you need training scores, please set return_train_score=True\n",
      "  warnings.warn(*warn_args, **warn_kwargs)\n",
      "/Users/labosano/anaconda3/envs/lixil/lib/python3.6/site-packages/sklearn/utils/deprecation.py:125: FutureWarning: You are accessing a training score ('train_f1'), which will not be available by default any more in 0.21. If you need training scores, please set return_train_score=True\n",
      "  warnings.warn(*warn_args, **warn_kwargs)\n"
     ]
    },
    {
     "data": {
      "text/plain": [
       "{'fit_time': array([3.37462997, 4.61338711, 3.88603902, 3.511724  , 3.51143289]),\n",
       " 'score_time': array([0.55109882, 0.72621489, 0.51695085, 0.55206394, 0.53828096]),\n",
       " 'test_accuracy': array([0.6702044 , 0.6702044 , 0.64819182, 0.67924528, 0.67570755]),\n",
       " 'train_accuracy': array([0.74921384, 0.74783805, 0.75117925, 0.74646226, 0.75422563]),\n",
       " 'test_precision': array([0.63388992, 0.64579125, 0.62442244, 0.64882507, 0.6428115 ]),\n",
       " 'train_precision': array([0.70223285, 0.70009521, 0.70234326, 0.70038351, 0.70515464]),\n",
       " 'test_recall': array([0.80581761, 0.75393082, 0.74371069, 0.78144654, 0.7908805 ]),\n",
       " 'train_recall': array([0.8653695 , 0.86713836, 0.87185535, 0.86143868, 0.87382075]),\n",
       " 'test_f1': array([0.70958809, 0.69568371, 0.67886616, 0.70898716, 0.70919986]),\n",
       " 'train_f1': array([0.77531256, 0.77471466, 0.77797264, 0.77260709, 0.78047924])}"
      ]
     },
     "execution_count": 283,
     "metadata": {},
     "output_type": "execute_result"
    }
   ],
   "source": [
    "scores"
   ]
  },
  {
   "cell_type": "code",
   "execution_count": 284,
   "metadata": {},
   "outputs": [
    {
     "data": {
      "text/plain": [
       "0.6394094456033044"
      ]
     },
     "execution_count": 284,
     "metadata": {},
     "output_type": "execute_result"
    }
   ],
   "source": [
    "best_score"
   ]
  },
  {
   "cell_type": "code",
   "execution_count": 285,
   "metadata": {},
   "outputs": [
    {
     "data": {
      "text/plain": [
       "{'criterion': 'entropy',\n",
       " 'max_depth': 15,\n",
       " 'n_estimators': 100,\n",
       " 'random_state': 0}"
      ]
     },
     "execution_count": 285,
     "metadata": {},
     "output_type": "execute_result"
    }
   ],
   "source": [
    "best_params"
   ]
  },
  {
   "cell_type": "code",
   "execution_count": 180,
   "metadata": {},
   "outputs": [],
   "source": []
  },
  {
   "cell_type": "code",
   "execution_count": 286,
   "metadata": {},
   "outputs": [
    {
     "data": {
      "text/plain": [
       "RandomForestClassifier(bootstrap=True, class_weight=None, criterion='entropy',\n",
       "            max_depth=15, max_features='auto', max_leaf_nodes=None,\n",
       "            min_impurity_decrease=0.0, min_impurity_split=None,\n",
       "            min_samples_leaf=1, min_samples_split=2,\n",
       "            min_weight_fraction_leaf=0.0, n_estimators=100, n_jobs=None,\n",
       "            oob_score=False, random_state=0, verbose=0, warm_start=False)"
      ]
     },
     "execution_count": 286,
     "metadata": {},
     "output_type": "execute_result"
    }
   ],
   "source": [
    "#最適なハイパーパラメータで再学習\n",
    "\n",
    "model = RandomForestClassifier(**best_params)\n",
    "model.fit(X_train, y_train)"
   ]
  },
  {
   "cell_type": "code",
   "execution_count": 287,
   "metadata": {},
   "outputs": [],
   "source": [
    "feature_names = df_train.columns[2:]\n",
    "importances = model.feature_importances_\n",
    "\n",
    "index_top_10 = np.argsort(importances)[::-1][:60] \n",
    "\n",
    "#変数の重要度をグラフに描画\n",
    "# plt.barh(range(30), importances[index_top_10][::-1], color = 'skyblue', align = 'center')\n",
    "# plt.yticks(range(30), feature_names[index_top_10][::-1])\n",
    "# plt.ylim(-1, 30);"
   ]
  },
  {
   "cell_type": "code",
   "execution_count": null,
   "metadata": {},
   "outputs": [],
   "source": []
  },
  {
   "cell_type": "code",
   "execution_count": 288,
   "metadata": {},
   "outputs": [],
   "source": [
    "#上位n個の変数のみで再学習\n",
    "new_X_train = df_train[list(feature_names[index_top_10][::-1])]\n",
    "new_X_test = df_test[list(feature_names[index_top_10][::-1])]"
   ]
  },
  {
   "cell_type": "code",
   "execution_count": 289,
   "metadata": {},
   "outputs": [
    {
     "data": {
      "text/plain": [
       "RandomForestClassifier(bootstrap=True, class_weight=None, criterion='entropy',\n",
       "            max_depth=15, max_features='auto', max_leaf_nodes=None,\n",
       "            min_impurity_decrease=0.0, min_impurity_split=None,\n",
       "            min_samples_leaf=1, min_samples_split=2,\n",
       "            min_weight_fraction_leaf=0.0, n_estimators=100, n_jobs=None,\n",
       "            oob_score=False, random_state=0, verbose=0, warm_start=False)"
      ]
     },
     "execution_count": 289,
     "metadata": {},
     "output_type": "execute_result"
    }
   ],
   "source": [
    "model = RandomForestClassifier(**best_params)\n",
    "model.fit(new_X_train, y_train)"
   ]
  },
  {
   "cell_type": "code",
   "execution_count": 290,
   "metadata": {},
   "outputs": [],
   "source": [
    "y_pred = model.predict(new_X_test)"
   ]
  },
  {
   "cell_type": "code",
   "execution_count": 291,
   "metadata": {},
   "outputs": [
    {
     "data": {
      "text/plain": [
       "array([1., 1., 1., ..., 0., 0., 0.])"
      ]
     },
     "execution_count": 291,
     "metadata": {},
     "output_type": "execute_result"
    }
   ],
   "source": [
    "y_test"
   ]
  },
  {
   "cell_type": "code",
   "execution_count": 94,
   "metadata": {},
   "outputs": [
    {
     "name": "stdout",
     "output_type": "stream",
     "text": [
      "0.5554861544867791\n",
      "0.03162904959312145\n",
      "0.6776315789473685\n"
     ]
    }
   ],
   "source": [
    "print(accuracy_score(y_test, y_pred))\n",
    "print(precision_score(y_test, y_pred))\n",
    "print(recall_score(y_test, y_pred))"
   ]
  },
  {
   "cell_type": "code",
   "execution_count": 135,
   "metadata": {},
   "outputs": [
    {
     "name": "stdout",
     "output_type": "stream",
     "text": [
      "0.5740856409188702\n",
      "0.0335341472516927\n",
      "0.6896929824561403\n"
     ]
    }
   ],
   "source": [
    "print(accuracy_score(y_test, y_pred))\n",
    "print(precision_score(y_test, y_pred))\n",
    "print(recall_score(y_test, y_pred))"
   ]
  },
  {
   "cell_type": "code",
   "execution_count": 208,
   "metadata": {},
   "outputs": [
    {
     "name": "stdout",
     "output_type": "stream",
     "text": [
      "accuracy: 0.5657806463552872\n",
      "precision: 0.03441443320471373\n",
      "recall: 0.7236842105263158\n"
     ]
    }
   ],
   "source": [
    "print(\"accuracy:\",accuracy_score(y_test, y_pred))\n",
    "print(\"precision:\",precision_score(y_test, y_pred))\n",
    "print(\"recall:\",recall_score(y_test, y_pred))"
   ]
  },
  {
   "cell_type": "code",
   "execution_count": 235,
   "metadata": {},
   "outputs": [
    {
     "name": "stdout",
     "output_type": "stream",
     "text": [
      "accuracy: 0.5630312434861153\n",
      "precision: 0.03491685230275087\n",
      "recall: 0.7390350877192983\n"
     ]
    }
   ],
   "source": [
    "print(\"accuracy:\",accuracy_score(y_test, y_pred))\n",
    "print(\"precision:\",precision_score(y_test, y_pred))\n",
    "print(\"recall:\",recall_score(y_test, y_pred))"
   ]
  },
  {
   "cell_type": "code",
   "execution_count": 292,
   "metadata": {},
   "outputs": [
    {
     "name": "stdout",
     "output_type": "stream",
     "text": [
      "accuracy: 0.5876276721402599\n",
      "precision: 0.0359320916433163\n",
      "recall: 0.7171052631578947\n"
     ]
    }
   ],
   "source": [
    "print(\"accuracy:\",accuracy_score(y_test, y_pred))\n",
    "print(\"precision:\",precision_score(y_test, y_pred))\n",
    "print(\"recall:\",recall_score(y_test, y_pred))"
   ]
  },
  {
   "cell_type": "code",
   "execution_count": 209,
   "metadata": {},
   "outputs": [
    {
     "data": {
      "text/plain": [
       "Counter({1.0: 912, 0.0: 42315})"
      ]
     },
     "execution_count": 209,
     "metadata": {},
     "output_type": "execute_result"
    }
   ],
   "source": [
    "Counter(y_test)"
   ]
  },
  {
   "cell_type": "code",
   "execution_count": 293,
   "metadata": {},
   "outputs": [
    {
     "data": {
      "text/plain": [
       "Counter({1.0: 18201, 0.0: 24976})"
      ]
     },
     "execution_count": 293,
     "metadata": {},
     "output_type": "execute_result"
    }
   ],
   "source": [
    "Counter(y_pred)"
   ]
  },
  {
   "cell_type": "code",
   "execution_count": null,
   "metadata": {},
   "outputs": [],
   "source": []
  }
 ],
 "metadata": {
  "kernelspec": {
   "display_name": "Python 3",
   "language": "python",
   "name": "python3"
  },
  "language_info": {
   "codemirror_mode": {
    "name": "ipython",
    "version": 3
   },
   "file_extension": ".py",
   "mimetype": "text/x-python",
   "name": "python",
   "nbconvert_exporter": "python",
   "pygments_lexer": "ipython3",
   "version": "3.6.7"
  }
 },
 "nbformat": 4,
 "nbformat_minor": 2
}
