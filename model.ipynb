{
 "cells": [
  {
   "cell_type": "code",
   "execution_count": 240,
   "metadata": {},
   "outputs": [],
   "source": [
    "import pandas as pd\n",
    "import numpy as np\n",
    "\n",
    "import matplotlib.pyplot as plt\n",
    "import seaborn as sns\n",
    "%matplotlib inline\n",
    "from collections import Counter\n",
    "from sklearn.ensemble import RandomForestClassifier\n",
    "\n",
    "pd.set_option(\"display.max_columns\", 200)\n",
    "\n",
    "from sklearn.model_selection import ParameterGrid\n",
    "from sklearn.model_selection import StratifiedKFold,cross_validate\n",
    "from sklearn.metrics import accuracy_score\n",
    "from sklearn.metrics import precision_score\n",
    "from sklearn.metrics import recall_score"
   ]
  },
  {
   "cell_type": "code",
   "execution_count": 194,
   "metadata": {},
   "outputs": [],
   "source": [
    "# df_train = pd.read_csv(\"../data/feature/random_under_sampling/df_train.csv\",index_col=0)\n",
    "# df_test = pd.read_csv(\"../data/feature/random_under_sampling/df_test.csv\",index_col=0)"
   ]
  },
  {
   "cell_type": "code",
   "execution_count": 517,
   "metadata": {},
   "outputs": [],
   "source": [
    "year_month = \"201712\""
   ]
  },
  {
   "cell_type": "code",
   "execution_count": 518,
   "metadata": {},
   "outputs": [],
   "source": [
    "df_train = pd.read_csv(\"../data/feature/random_under_sampling/new_df_train_{}.csv\".format(year_month),index_col=0)\n",
    "df_test = pd.read_csv(\"../data/feature/random_under_sampling/new_df_test_{}.csv\".format(year_month),index_col=0)"
   ]
  },
  {
   "cell_type": "code",
   "execution_count": 523,
   "metadata": {},
   "outputs": [
    {
     "data": {
      "text/plain": [
       "0.0    6360\n",
       "1.0    6360\n",
       "Name: cv_flg, dtype: int64"
      ]
     },
     "execution_count": 523,
     "metadata": {},
     "output_type": "execute_result"
    }
   ],
   "source": [
    "df_train[\"cv_flg\"].value_counts()"
   ]
  },
  {
   "cell_type": "code",
   "execution_count": 503,
   "metadata": {},
   "outputs": [],
   "source": [
    "def min_max(x, axis=None):\n",
    "    min = x.min(axis=axis, keepdims=True)\n",
    "    max = x.max(axis=axis, keepdims=True)\n",
    "    if max == 0 and min == 0:\n",
    "        return x\n",
    "    else:\n",
    "        result = (x-min)/(max-min)\n",
    "        return result"
   ]
  },
  {
   "cell_type": "code",
   "execution_count": 504,
   "metadata": {},
   "outputs": [],
   "source": [
    "df_train[\"num_of_pages\"] = min_max(df_train[\"num_of_pages\"].values)\n",
    "df_train[\"num_of_move_block\"] = min_max(df_train[\"num_of_move_block\"].values)\n",
    "df_train[\"num_keyword\"] = min_max(df_train[\"num_of_move_block\"].values)\n",
    "\n",
    "df_train['num_go_block_/simulation/'] = min_max(df_train[\"num_go_block_/simulation/\"].values)\n",
    "df_train[\"num_go_block_CV\"] = min_max(df_train[\"num_go_block_CV\"].values)\n",
    "df_train[\"num_go_block_about\"] = min_max(df_train[\"num_go_block_about\"].values)\n",
    "df_train[\"num_go_block_business\"] = min_max(df_train[\"num_go_block_business\"].values)\n",
    "df_train[\"num_go_block_catalog\"] = min_max(df_train[\"num_go_block_catalog\"].values)\n",
    "df_train[\"num_go_block_cms\"] = min_max(df_train[\"num_go_block_cms\"].values)\n",
    "df_train[\"num_go_block_cus_main\"] = min_max(df_train[\"num_go_block_cus_main\"].values)\n",
    "df_train[\"num_go_block_detect_cate\"] = min_max(df_train[\"num_go_block_detect_cate\"].values)\n",
    "df_train[\"num_go_block_digitaldesk\"] = min_max(df_train[\"num_go_block_digitaldesk\"].values)\n",
    "df_train[\"num_go_block_faq\"] = min_max(df_train[\"num_go_block_faq\"].values)\n",
    "df_train[\"num_go_block_inax\"] = min_max(df_train[\"num_go_block_inax\"].values)\n",
    "df_train[\"num_go_block_inquiry\"] = min_max(df_train[\"num_go_block_inquiry\"].values)\n",
    "df_train[\"num_go_block_kento\"] = min_max(df_train[\"num_go_block_kento\"].values)\n",
    "df_train[\"num_go_block_kotsu\"] = min_max(df_train[\"num_go_block_kotsu\"].values)\n",
    "df_train[\"num_go_block_lineup\"] = min_max(df_train[\"num_go_block_lineup\"].values)\n",
    "df_train[\"num_go_block_long_support\"] = min_max(df_train[\"num_go_block_long_support\"].values)\n",
    "df_train[\"num_go_block_madeby\"] = min_max(df_train[\"num_go_block_madeby\"].values)\n",
    "df_train[\"num_go_block_main\"] = min_max(df_train[\"num_go_block_main\"].values)\n",
    "df_train[\"num_go_block_others\"] = min_max(df_train[\"num_go_block_others\"].values)\n",
    "df_train[\"num_go_block_otoku\"] = min_max(df_train[\"num_go_block_otoku\"].values)\n",
    "df_train[\"num_go_block_ownerreg\"] = min_max(df_train[\"num_go_block_ownerreg\"].values)\n",
    "df_train[\"num_go_block_owners\"] = min_max(df_train[\"num_go_block_owners\"].values)\n",
    "df_train[\"num_go_block_policy_etc\"] = min_max(df_train[\"num_go_block_policy_etc\"].values)\n",
    "df_train[\"num_go_block_purpose\"] = min_max(df_train[\"num_go_block_purpose\"].values)\n",
    "df_train[\"num_go_block_qa\"] = min_max(df_train[\"num_go_block_qa\"].values)\n",
    "df_train[\"num_go_block_rakuraku\"] = min_max(df_train[\"num_go_block_rakuraku\"].values)\n",
    "df_train[\"num_go_block_rechent\"] = min_max(df_train[\"num_go_block_rechent\"].values)\n",
    "df_train[\"num_go_block_reform_con\"] = min_max(df_train[\"num_go_block_reform_con\"].values)\n",
    "df_train[\"num_go_block_reform_main\"] = min_max(df_train[\"num_go_block_reform_main\"].values)\n",
    "df_train[\"num_go_block_reform_part\"] = min_max(df_train[\"num_go_block_reform_part\"].values)\n",
    "df_train[\"num_go_block_search\"] = min_max(df_train[\"num_go_block_search\"].values)\n",
    "df_train[\"num_go_block_seekreform\"] = min_max(df_train[\"num_go_block_seekreform\"].values)\n",
    "df_train[\"num_go_block_shinnikkei\"] = min_max(df_train[\"num_go_block_shinnikkei\"].values)\n",
    "df_train[\"num_go_block_show_fair\"] = min_max(df_train[\"num_go_block_show_fair\"].values)\n",
    "df_train[\"num_go_block_show_main\"] = min_max(df_train[\"num_go_block_show_main\"].values)\n",
    "df_train[\"num_go_block_tostem\"] = min_max(df_train[\"num_go_block_tostem\"].values)\n",
    "df_train[\"num_go_block_twenty\"] = min_max(df_train[\"num_go_block_twenty\"].values)\n",
    "df_train[\"num_go_block_warning\"] = min_max(df_train[\"num_go_block_warning\"].values)\n",
    "df_train[\"num_go_block_web_consult\"] = min_max(df_train[\"num_go_block_web_consult\"].values)\n",
    "df_train[\"num_go_block_yougo\"] = min_max(df_train[\"num_go_block_yougo\"].values)\n",
    "\n",
    "\n",
    "df_test[\"num_of_pages\"] = min_max(df_test[\"num_of_pages\"].values)\n",
    "df_test[\"num_of_move_block\"] = min_max(df_test[\"num_of_move_block\"].values)\n",
    "df_test[\"num_keyword\"] = min_max(df_test[\"num_of_move_block\"].values)\n",
    "\n",
    "df_test['num_go_block_/simulation/'] = min_max(df_test[\"num_go_block_/simulation/\"].values)\n",
    "df_test[\"num_go_block_CV\"] = min_max(df_test[\"num_go_block_CV\"].values)\n",
    "df_test[\"num_go_block_about\"] = min_max(df_test[\"num_go_block_about\"].values)\n",
    "df_test[\"num_go_block_business\"] = min_max(df_test[\"num_go_block_business\"].values)\n",
    "df_test[\"num_go_block_catalog\"] = min_max(df_test[\"num_go_block_catalog\"].values)\n",
    "df_test[\"num_go_block_cms\"] = min_max(df_test[\"num_go_block_cms\"].values)\n",
    "df_test[\"num_go_block_cus_main\"] = min_max(df_test[\"num_go_block_cus_main\"].values)\n",
    "df_test[\"num_go_block_detect_cate\"] = min_max(df_test[\"num_go_block_detect_cate\"].values)\n",
    "df_test[\"num_go_block_digitaldesk\"] = min_max(df_test[\"num_go_block_digitaldesk\"].values)\n",
    "df_test[\"num_go_block_faq\"] = min_max(df_test[\"num_go_block_faq\"].values)\n",
    "df_test[\"num_go_block_inax\"] = min_max(df_test[\"num_go_block_inax\"].values)\n",
    "df_test[\"num_go_block_inquiry\"] = min_max(df_test[\"num_go_block_inquiry\"].values)\n",
    "df_test[\"num_go_block_kento\"] = min_max(df_test[\"num_go_block_kento\"].values)\n",
    "df_test[\"num_go_block_kotsu\"] = min_max(df_test[\"num_go_block_kotsu\"].values)\n",
    "df_test[\"num_go_block_lineup\"] = min_max(df_test[\"num_go_block_lineup\"].values)\n",
    "df_test[\"num_go_block_long_support\"] = min_max(df_test[\"num_go_block_long_support\"].values)\n",
    "df_test[\"num_go_block_madeby\"] = min_max(df_test[\"num_go_block_madeby\"].values)\n",
    "df_test[\"num_go_block_main\"] = min_max(df_test[\"num_go_block_main\"].values)\n",
    "df_test[\"num_go_block_others\"] = min_max(df_test[\"num_go_block_others\"].values)\n",
    "df_test[\"num_go_block_otoku\"] = min_max(df_test[\"num_go_block_otoku\"].values)\n",
    "df_test[\"num_go_block_ownerreg\"] = min_max(df_test[\"num_go_block_ownerreg\"].values)\n",
    "df_test[\"num_go_block_owners\"] = min_max(df_test[\"num_go_block_owners\"].values)\n",
    "df_test[\"num_go_block_policy_etc\"] = min_max(df_test[\"num_go_block_policy_etc\"].values)\n",
    "df_test[\"num_go_block_purpose\"] = min_max(df_test[\"num_go_block_purpose\"].values)\n",
    "df_test[\"num_go_block_qa\"] = min_max(df_test[\"num_go_block_qa\"].values)\n",
    "df_test[\"num_go_block_rakuraku\"] = min_max(df_test[\"num_go_block_rakuraku\"].values)\n",
    "df_test[\"num_go_block_rechent\"] = min_max(df_test[\"num_go_block_rechent\"].values)\n",
    "df_test[\"num_go_block_reform_con\"] = min_max(df_test[\"num_go_block_reform_con\"].values)\n",
    "df_test[\"num_go_block_reform_main\"] = min_max(df_test[\"num_go_block_reform_main\"].values)\n",
    "df_test[\"num_go_block_reform_part\"] = min_max(df_test[\"num_go_block_reform_part\"].values)\n",
    "df_test[\"num_go_block_search\"] = min_max(df_test[\"num_go_block_search\"].values)\n",
    "df_test[\"num_go_block_seekreform\"] = min_max(df_test[\"num_go_block_seekreform\"].values)\n",
    "df_test[\"num_go_block_shinnikkei\"] = min_max(df_test[\"num_go_block_shinnikkei\"].values)\n",
    "df_test[\"num_go_block_show_fair\"] = min_max(df_test[\"num_go_block_show_fair\"].values)\n",
    "df_test[\"num_go_block_show_main\"] = min_max(df_test[\"num_go_block_show_main\"].values)\n",
    "df_test[\"num_go_block_tostem\"] = min_max(df_test[\"num_go_block_tostem\"].values)\n",
    "df_test[\"num_go_block_twenty\"] = min_max(df_test[\"num_go_block_twenty\"].values)\n",
    "df_test[\"num_go_block_warning\"] = min_max(df_test[\"num_go_block_warning\"].values)\n",
    "df_test[\"num_go_block_web_consult\"] = min_max(df_test[\"num_go_block_web_consult\"].values)\n",
    "df_test[\"num_go_block_yougo\"] = min_max(df_test[\"num_go_block_yougo\"].values)\n",
    "\n"
   ]
  },
  {
   "cell_type": "code",
   "execution_count": 519,
   "metadata": {},
   "outputs": [
    {
     "name": "stdout",
     "output_type": "stream",
     "text": [
      "(12720, 195)\n",
      "(43177, 195)\n"
     ]
    }
   ],
   "source": [
    "print(df_train.shape)\n",
    "print(df_test.shape)"
   ]
  },
  {
   "cell_type": "code",
   "execution_count": 507,
   "metadata": {},
   "outputs": [
    {
     "name": "stdout",
     "output_type": "stream",
     "text": [
      "{'criterion': 'gini', 'max_depth': 5, 'max_features': 'auto', 'n_estimators': 500, 'random_state': 0}\n",
      "accuracy: 0.6567402408368777\n",
      "{'criterion': 'gini', 'max_depth': 10, 'max_features': 'auto', 'n_estimators': 500, 'random_state': 0}\n",
      "accuracy: 0.6712287436232208\n",
      "{'criterion': 'gini', 'max_depth': 15, 'max_features': 'auto', 'n_estimators': 500, 'random_state': 0}\n",
      "accuracy: 0.6706426636648635\n",
      "{'criterion': 'gini', 'max_depth': 30, 'max_features': 'auto', 'n_estimators': 500, 'random_state': 0}\n",
      "accuracy: 0.6576170580114196\n"
     ]
    }
   ],
   "source": [
    "params = {\n",
    "    'n_estimators': [500],\n",
    "    'max_depth': [5,10,15,30],\n",
    "#     'max_leaf_nodes':[10,20,],\n",
    "#     'min_samples_leaf':[2,5,10],\n",
    "    'max_features':[\"auto\"],\n",
    "    'random_state':[0],\n",
    "    'criterion':['gini'],\n",
    "}\n",
    "best_score = 0\n",
    "best_params = {}\n",
    "for param in ParameterGrid(params):\n",
    "    print(param)\n",
    "    model = RandomForestClassifier(**param)\n",
    "\n",
    "    skf = StratifiedKFold(n_splits=5, shuffle=True, random_state=42)\n",
    "\n",
    "    score_funcs = [\n",
    "        'accuracy',\n",
    "        'precision',\n",
    "        'recall',\n",
    "        'f1',\n",
    "    ]\n",
    "\n",
    "    scores = cross_validate(model, X_train, y_train, cv=skf, scoring=score_funcs)\n",
    "    \n",
    "    accuracy = scores['test_accuracy'].mean()\n",
    "    \n",
    "    if accuracy > best_score :\n",
    "        best_score = accuracy\n",
    "        best_params = param\n",
    "    \n",
    "    print('accuracy:', scores['test_accuracy'].mean())"
   ]
  },
  {
   "cell_type": "code",
   "execution_count": 508,
   "metadata": {},
   "outputs": [
    {
     "data": {
      "text/plain": [
       "{'criterion': 'gini',\n",
       " 'max_depth': 10,\n",
       " 'max_features': 'auto',\n",
       " 'n_estimators': 500,\n",
       " 'random_state': 0}"
      ]
     },
     "execution_count": 508,
     "metadata": {},
     "output_type": "execute_result"
    }
   ],
   "source": [
    "best_params"
   ]
  },
  {
   "cell_type": "code",
   "execution_count": 509,
   "metadata": {},
   "outputs": [
    {
     "data": {
      "text/plain": [
       "RandomForestClassifier(bootstrap=True, class_weight=None, criterion='gini',\n",
       "            max_depth=10, max_features='auto', max_leaf_nodes=None,\n",
       "            min_impurity_decrease=0.0, min_impurity_split=None,\n",
       "            min_samples_leaf=1, min_samples_split=2,\n",
       "            min_weight_fraction_leaf=0.0, n_estimators=500, n_jobs=None,\n",
       "            oob_score=False, random_state=0, verbose=0, warm_start=False)"
      ]
     },
     "execution_count": 509,
     "metadata": {},
     "output_type": "execute_result"
    }
   ],
   "source": [
    "#最適なハイパーパラメータで再学習\n",
    "\n",
    "model = RandomForestClassifier(**best_params)\n",
    "model.fit(X_train, y_train)"
   ]
  },
  {
   "cell_type": "code",
   "execution_count": 510,
   "metadata": {},
   "outputs": [],
   "source": [
    "feature_names = df_train.columns[2:]\n",
    "importances = model.feature_importances_\n",
    "\n",
    "index_top_10 = np.argsort(importances)[::-1][:50] "
   ]
  },
  {
   "cell_type": "code",
   "execution_count": null,
   "metadata": {},
   "outputs": [],
   "source": []
  },
  {
   "cell_type": "code",
   "execution_count": 511,
   "metadata": {},
   "outputs": [],
   "source": [
    "#上位n個の変数のみで再学習\n",
    "new_X_train = df_train[list(feature_names[index_top_10][::-1])]\n",
    "new_X_test = df_test[list(feature_names[index_top_10][::-1])]"
   ]
  },
  {
   "cell_type": "code",
   "execution_count": 512,
   "metadata": {},
   "outputs": [
    {
     "data": {
      "text/plain": [
       "RandomForestClassifier(bootstrap=True, class_weight=None, criterion='gini',\n",
       "            max_depth=10, max_features='auto', max_leaf_nodes=None,\n",
       "            min_impurity_decrease=0.0, min_impurity_split=None,\n",
       "            min_samples_leaf=1, min_samples_split=2,\n",
       "            min_weight_fraction_leaf=0.0, n_estimators=500, n_jobs=None,\n",
       "            oob_score=False, random_state=0, verbose=0, warm_start=False)"
      ]
     },
     "execution_count": 512,
     "metadata": {},
     "output_type": "execute_result"
    }
   ],
   "source": [
    "model = RandomForestClassifier(**best_params)\n",
    "model.fit(new_X_train, y_train)"
   ]
  },
  {
   "cell_type": "code",
   "execution_count": 513,
   "metadata": {},
   "outputs": [
    {
     "data": {
      "image/png": "[encoded data removed]",
      "text/plain": [
       "<Figure size 432x288 with 1 Axes>"
      ]
     },
     "metadata": {
      "needs_background": "light"
     },
     "output_type": "display_data"
    }
   ],
   "source": [
    "feature_names = df_train.columns[2:]\n",
    "importances = model.feature_importances_\n",
    "\n",
    "index_top_10 = np.argsort(importances)[::-1][:10] \n",
    "\n",
    "# 変数の重要度をグラフに描画\n",
    "plt.barh(range(10), importances[index_top_10][::-1], color = 'skyblue', align = 'center')\n",
    "plt.yticks(range(10), feature_names[index_top_10][::-1])\n",
    "plt.ylim(-1, 10);"
   ]
  },
  {
   "cell_type": "code",
   "execution_count": 514,
   "metadata": {},
   "outputs": [],
   "source": [
    "y_pred = model.predict(new_X_test)"
   ]
  },
  {
   "cell_type": "code",
   "execution_count": 515,
   "metadata": {},
   "outputs": [
    {
     "data": {
      "text/plain": [
       "array([1., 1., 1., ..., 0., 0., 0.])"
      ]
     },
     "execution_count": 515,
     "metadata": {},
     "output_type": "execute_result"
    }
   ],
   "source": [
    "y_test"
   ]
  },
  {
   "cell_type": "code",
   "execution_count": 353,
   "metadata": {},
   "outputs": [
    {
     "name": "stdout",
     "output_type": "stream",
     "text": [
      "accuracy: 0.5776686661880168\n",
      "precision: 0.03589990891067888\n",
      "recall: 0.7346491228070176\n"
     ]
    }
   ],
   "source": [
    "#201712\n",
    "print(\"accuracy:\",accuracy_score(y_test, y_pred))\n",
    "print(\"precision:\",precision_score(y_test, y_pred))\n",
    "print(\"recall:\",recall_score(y_test, y_pred))\n",
    "\n",
    "print(\"実際の割合\",Counter(y_test))\n",
    "print(\"予測の割合\",Counter(y_pred))"
   ]
  },
  {
   "cell_type": "code",
   "execution_count": 371,
   "metadata": {},
   "outputs": [
    {
     "name": "stdout",
     "output_type": "stream",
     "text": [
      "accuracy: 0.6064803020126456\n",
      "precision: 0.03628078675664763\n",
      "recall: 0.6896929824561403\n",
      "実際の割合 Counter({0.0: 42265, 1.0: 912})\n",
      "予測の割合 Counter({0.0: 25840, 1.0: 17337})\n"
     ]
    }
   ],
   "source": [
    "#201712正規化\n",
    "print(\"accuracy:\",accuracy_score(y_test, y_pred))\n",
    "print(\"precision:\",precision_score(y_test, y_pred))\n",
    "print(\"recall:\",recall_score(y_test, y_pred))\n",
    "\n",
    "print(\"実際の割合\",Counter(y_test))\n",
    "print(\"予測の割合\",Counter(y_pred))"
   ]
  },
  {
   "cell_type": "code",
   "execution_count": 385,
   "metadata": {},
   "outputs": [
    {
     "name": "stdout",
     "output_type": "stream",
     "text": [
      "accuracy: 0.6018406183923186\n",
      "precision: 0.03555045871559633\n",
      "recall: 0.7588395285584769\n",
      "実際の割合 Counter({0.0: 56595, 1.0: 1103})\n",
      "予測の割合 Counter({0.0: 34154, 1.0: 23544})\n"
     ]
    }
   ],
   "source": [
    "#201801\n",
    "print(\"accuracy:\",accuracy_score(y_test, y_pred))\n",
    "print(\"precision:\",precision_score(y_test, y_pred))\n",
    "print(\"recall:\",recall_score(y_test, y_pred))\n",
    "\n",
    "print(\"実際の割合\",Counter(y_test))\n",
    "print(\"予測の割合\",Counter(y_pred))"
   ]
  },
  {
   "cell_type": "code",
   "execution_count": 400,
   "metadata": {},
   "outputs": [
    {
     "name": "stdout",
     "output_type": "stream",
     "text": [
      "accuracy: 0.5673333564421644\n",
      "precision: 0.033946638540567994\n",
      "recall: 0.7878513145965549\n",
      "実際の割合 Counter({0.0: 56595, 1.0: 1103})\n",
      "予測の割合 Counter({0.0: 32099, 1.0: 25599})\n"
     ]
    }
   ],
   "source": [
    "#201801正規化\n",
    "print(\"accuracy:\",accuracy_score(y_test, y_pred))\n",
    "print(\"precision:\",precision_score(y_test, y_pred))\n",
    "print(\"recall:\",recall_score(y_test, y_pred))\n",
    "\n",
    "print(\"実際の割合\",Counter(y_test))\n",
    "print(\"予測の割合\",Counter(y_pred))"
   ]
  },
  {
   "cell_type": "code",
   "execution_count": 415,
   "metadata": {},
   "outputs": [
    {
     "name": "stdout",
     "output_type": "stream",
     "text": [
      "accuracy: 0.584688264589009\n",
      "precision: 0.02819672131147541\n",
      "recall: 0.756043956043956\n",
      "実際の割合 Counter({0.0: 56719, 1.0: 910})\n",
      "予測の割合 Counter({0.0: 33229, 1.0: 24400})\n"
     ]
    }
   ],
   "source": [
    "#201802\n",
    "print(\"accuracy:\",accuracy_score(y_test, y_pred))\n",
    "print(\"precision:\",precision_score(y_test, y_pred))\n",
    "print(\"recall:\",recall_score(y_test, y_pred))\n",
    "\n",
    "print(\"実際の割合\",Counter(y_test))\n",
    "print(\"予測の割合\",Counter(y_pred))"
   ]
  },
  {
   "cell_type": "code",
   "execution_count": 429,
   "metadata": {},
   "outputs": [
    {
     "name": "stdout",
     "output_type": "stream",
     "text": [
      "accuracy: 0.5591455690711273\n",
      "precision: 0.027250270186814883\n",
      "recall: 0.7758241758241758\n",
      "実際の割合 Counter({0.0: 56719, 1.0: 910})\n",
      "予測の割合 Counter({0.0: 31721, 1.0: 25908})\n"
     ]
    }
   ],
   "source": [
    "#201802正規化\n",
    "print(\"accuracy:\",accuracy_score(y_test, y_pred))\n",
    "print(\"precision:\",precision_score(y_test, y_pred))\n",
    "print(\"recall:\",recall_score(y_test, y_pred))\n",
    "\n",
    "print(\"実際の割合\",Counter(y_test))\n",
    "print(\"予測の割合\",Counter(y_pred))"
   ]
  },
  {
   "cell_type": "code",
   "execution_count": 443,
   "metadata": {},
   "outputs": [
    {
     "name": "stdout",
     "output_type": "stream",
     "text": [
      "accuracy: 0.5571062626976415\n",
      "precision: 0.03489321974559458\n",
      "recall: 0.7752808988764045\n",
      "実際の割合 Counter({0.0: 55448, 1.0: 1157})\n",
      "予測の割合 Counter({0.0: 30898, 1.0: 25707})\n"
     ]
    }
   ],
   "source": [
    "#201803\n",
    "print(\"accuracy:\",accuracy_score(y_test, y_pred))\n",
    "print(\"precision:\",precision_score(y_test, y_pred))\n",
    "print(\"recall:\",recall_score(y_test, y_pred))\n",
    "\n",
    "print(\"実際の割合\",Counter(y_test))\n",
    "print(\"予測の割合\",Counter(y_pred))"
   ]
  },
  {
   "cell_type": "code",
   "execution_count": 457,
   "metadata": {},
   "outputs": [
    {
     "name": "stdout",
     "output_type": "stream",
     "text": [
      "accuracy: 0.528451550216412\n",
      "precision: 0.03316391824198325\n",
      "recall: 0.783923941227312\n",
      "実際の割合 Counter({0.0: 55448, 1.0: 1157})\n",
      "予測の割合 Counter({0.0: 29256, 1.0: 27349})\n"
     ]
    }
   ],
   "source": [
    "#201803正規化\n",
    "print(\"accuracy:\",accuracy_score(y_test, y_pred))\n",
    "print(\"precision:\",precision_score(y_test, y_pred))\n",
    "print(\"recall:\",recall_score(y_test, y_pred))\n",
    "\n",
    "print(\"実際の割合\",Counter(y_test))\n",
    "print(\"予測の割合\",Counter(y_pred))"
   ]
  },
  {
   "cell_type": "code",
   "execution_count": 472,
   "metadata": {},
   "outputs": [
    {
     "name": "stdout",
     "output_type": "stream",
     "text": [
      "accuracy: 0.5150173611111111\n",
      "precision: 0.045377453186113324\n",
      "recall: 0.7869147659063626\n",
      "実際の割合 Counter({0.0: 55934, 1.0: 1666})\n",
      "予測の割合 Counter({1.0: 28891, 0.0: 28709})\n"
     ]
    }
   ],
   "source": [
    "#201804\n",
    "print(\"accuracy:\",accuracy_score(y_test, y_pred))\n",
    "print(\"precision:\",precision_score(y_test, y_pred))\n",
    "print(\"recall:\",recall_score(y_test, y_pred))\n",
    "\n",
    "print(\"実際の割合\",Counter(y_test))\n",
    "print(\"予測の割合\",Counter(y_pred))"
   ]
  },
  {
   "cell_type": "code",
   "execution_count": 486,
   "metadata": {},
   "outputs": [
    {
     "name": "stdout",
     "output_type": "stream",
     "text": [
      "accuracy: 0.5415972222222222\n",
      "precision: 0.04562486224377342\n",
      "recall: 0.7454981992797118\n",
      "実際の割合 Counter({0.0: 55934, 1.0: 1666})\n",
      "予測の割合 Counter({0.0: 30378, 1.0: 27222})\n"
     ]
    }
   ],
   "source": [
    "#201804正規化\n",
    "print(\"accuracy:\",accuracy_score(y_test, y_pred))\n",
    "print(\"precision:\",precision_score(y_test, y_pred))\n",
    "print(\"recall:\",recall_score(y_test, y_pred))\n",
    "\n",
    "print(\"実際の割合\",Counter(y_test))\n",
    "print(\"予測の割合\",Counter(y_pred))"
   ]
  },
  {
   "cell_type": "code",
   "execution_count": 501,
   "metadata": {},
   "outputs": [
    {
     "name": "stdout",
     "output_type": "stream",
     "text": [
      "accuracy: 0.48298669216670653\n",
      "precision: 0.05274938886107266\n",
      "recall: 0.8656355727404543\n",
      "実際の割合 Counter({0.0: 60676, 1.0: 2069})\n",
      "予測の割合 Counter({1.0: 33953, 0.0: 28792})\n"
     ]
    }
   ],
   "source": [
    "#201805\n",
    "print(\"accuracy:\",accuracy_score(y_test, y_pred))\n",
    "print(\"precision:\",precision_score(y_test, y_pred))\n",
    "print(\"recall:\",recall_score(y_test, y_pred))\n",
    "\n",
    "print(\"実際の割合\",Counter(y_test))\n",
    "print(\"予測の割合\",Counter(y_pred))"
   ]
  },
  {
   "cell_type": "code",
   "execution_count": 516,
   "metadata": {},
   "outputs": [
    {
     "name": "stdout",
     "output_type": "stream",
     "text": [
      "accuracy: 0.4834329428639732\n",
      "precision: 0.0528983585300445\n",
      "recall: 0.8675688738521025\n",
      "実際の割合 Counter({0.0: 60676, 1.0: 2069})\n",
      "予測の割合 Counter({1.0: 33933, 0.0: 28812})\n"
     ]
    }
   ],
   "source": [
    "#201805正規化\n",
    "print(\"accuracy:\",accuracy_score(y_test, y_pred))\n",
    "print(\"precision:\",precision_score(y_test, y_pred))\n",
    "print(\"recall:\",recall_score(y_test, y_pred))\n",
    "\n",
    "print(\"実際の割合\",Counter(y_test))\n",
    "print(\"予測の割合\",Counter(y_pred))"
   ]
  },
  {
   "cell_type": "code",
   "execution_count": null,
   "metadata": {},
   "outputs": [],
   "source": []
  }
 ],
 "metadata": {
  "kernelspec": {
   "display_name": "Python 3",
   "language": "python",
   "name": "python3"
  },
  "language_info": {
   "codemirror_mode": {
    "name": "ipython",
    "version": 3
   },
   "file_extension": ".py",
   "mimetype": "text/x-python",
   "name": "python",
   "nbconvert_exporter": "python",
   "pygments_lexer": "ipython3",
   "version": "3.7.2"
  }
 },
 "nbformat": 4,
 "nbformat_minor": 2
}
