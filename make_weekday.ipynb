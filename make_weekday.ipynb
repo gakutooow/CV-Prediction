{
 "cells": [
  {
   "cell_type": "code",
   "execution_count": 1,
   "metadata": {},
   "outputs": [],
   "source": [
    "import numpy as np\n",
    "import pandas as pd\n",
    "import datetime"
   ]
  },
  {
   "cell_type": "code",
   "execution_count": 2,
   "metadata": {},
   "outputs": [],
   "source": [
    "weekday = [\"Monday\",\"Tuesday\",\"Wednesday\",\"Thursday\",\"Friday\",\"Saturday\",\"Sunday\"]"
   ]
  },
  {
   "cell_type": "code",
   "execution_count": 3,
   "metadata": {},
   "outputs": [],
   "source": [
    "df = pd.read_csv(\"../data/feature/new_GAdata20170601-20170630.db/feature_df_201706_01.csv\",index_col=0)"
   ]
  },
  {
   "cell_type": "code",
   "execution_count": 4,
   "metadata": {},
   "outputs": [
    {
     "name": "stderr",
     "output_type": "stream",
     "text": [
      "/Users/labosano/anaconda3/lib/python3.7/site-packages/ipykernel_launcher.py:32: FutureWarning: Sorting because non-concatenation axis is not aligned. A future version\n",
      "of pandas will change to not sort by default.\n",
      "\n",
      "To accept the future behavior, pass 'sort=False'.\n",
      "\n",
      "To retain the current behavior and silence the warning, pass 'sort=True'.\n",
      "\n"
     ]
    }
   ],
   "source": [
    "database_list = [\"GAdata20170601-20170630.db\",\n",
    "                 \"GAdata20170701-20170731.db\",\n",
    "                 \"GAdata20170801-20170831.db\",\n",
    "                 \"GAdata20170901-20170930.db\",\n",
    "                 \"GAdata20171001-20171031.db\",\n",
    "                 \"GAdata20171101-20171130.db\",\n",
    "                 \"GAdata20171201-20171231.db\",\n",
    "                 \"GAdata20180101-20180131.db\",\n",
    "                 \"GAdata20180201-20180228.db\",\n",
    "                 \"GAdata20180301-20180331.db\",\n",
    "                 \"GAdata20180401-20180430.db\",\n",
    "                 \"GAdata20180501-20180531.db\",\n",
    "                 ]\n",
    "                 \n",
    "year_list = [\"2017\",\"2018\"]\n",
    "month_list = [\"01\",\"02\",\"03\",\"04\",\"05\",\"06\",\"07\",\"08\",\"09\",\"10\",\"11\",\"12\"]\n",
    "day_list = [\"01\",\"02\",\"03\",\"04\",\"05\",\"06\",\"07\",\"08\",\"09\",\"10\",\n",
    "            \"11\",\"12\",\"13\",\"14\",\"15\",\"16\",\"17\",\"18\",\"19\",\"20\",\n",
    "           \"21\",\"22\",\"23\",\"24\",\"25\",\"26\",\"27\",\"28\",\"29\",\"30\",\"31\"]\n",
    "for database in database_list:\n",
    "    for year in year_list:\n",
    "        for month in month_list:\n",
    "            df_base = pd.DataFrame(columns=df.columns)\n",
    "            for day in day_list:\n",
    "                try:\n",
    "                    date = \"{0}{1}_{2}\".format(year,month,day)\n",
    "\n",
    "#                     df = pd.read_csv(\"../data/feature/{0}/feature_df_{1}.csv\".format(database,date),index_col=0)\n",
    "                    df = pd.read_csv(\"../data/feature/new_{0}/feature_df_{1}.csv\".format(database,date),index_col=0)\n",
    "                    df[\"weekday\"] = weekday[datetime.datetime.strptime(date,\"%Y%m_%d\").weekday()]\n",
    "\n",
    "                    df_base = pd.concat([df_base,df])\n",
    "                except FileNotFoundError:\n",
    "                    pass\n",
    "            if df_base.shape[0]!=0:\n",
    "                df_base.to_csv(\"../data/feature/new_monthly/feature_df_{0}{1}.csv\".format(year,month))                "
   ]
  },
  {
   "cell_type": "code",
   "execution_count": null,
   "metadata": {},
   "outputs": [],
   "source": []
  },
  {
   "cell_type": "code",
   "execution_count": null,
   "metadata": {},
   "outputs": [],
   "source": []
  },
  {
   "cell_type": "code",
   "execution_count": null,
   "metadata": {},
   "outputs": [],
   "source": []
  }
 ],
 "metadata": {
  "kernelspec": {
   "display_name": "Python 3",
   "language": "python",
   "name": "python3"
  },
  "language_info": {
   "codemirror_mode": {
    "name": "ipython",
    "version": 3
   },
   "file_extension": ".py",
   "mimetype": "text/x-python",
   "name": "python",
   "nbconvert_exporter": "python",
   "pygments_lexer": "ipython3",
   "version": "3.7.2"
  }
 },
 "nbformat": 4,
 "nbformat_minor": 2
}
